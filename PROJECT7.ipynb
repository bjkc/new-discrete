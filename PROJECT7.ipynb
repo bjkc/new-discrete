{
  "nbformat": 4,
  "nbformat_minor": 0,
  "metadata": {
    "colab": {
      "name": "Untitled23.ipynb",
      "provenance": [],
      "authorship_tag": "ABX9TyN6cXV0k0RaUJdjdBVrMGlv",
      "include_colab_link": true
    },
    "kernelspec": {
      "name": "python3",
      "display_name": "Python 3"
    },
    "language_info": {
      "name": "python"
    }
  },
  "cells": [
    {
      "cell_type": "markdown",
      "metadata": {
        "id": "view-in-github",
        "colab_type": "text"
      },
      "source": [
        "<a href=\"https://colab.research.google.com/github/bjkc/new-discrete/blob/main/PROJECT7.ipynb\" target=\"_parent\"><img src=\"https://colab.research.google.com/assets/colab-badge.svg\" alt=\"Open In Colab\"/></a>"
      ]
    },
    {
      "cell_type": "markdown",
      "source": [
        "#project 7\n",
        "\n",
        "\n",
        "discrete math\n",
        "\n",
        "\n",
        "bijay raj kc"
      ],
      "metadata": {
        "id": "tA36kedKhmxK"
      }
    },
    {
      "cell_type": "markdown",
      "source": [
        "In my proposition i will be choosing three different states for my desire to go for a spring break if i go on the vaccation this spring break ."
      ],
      "metadata": {
        "id": "Mhi2Vbugh0Ad"
      }
    },
    {
      "cell_type": "code",
      "source": [
        "FLORIDA = True\n",
        "LOUISIANA = True\n",
        "KENTUCKY = False"
      ],
      "metadata": {
        "id": "J8alggu2i9Re"
      },
      "execution_count": 3,
      "outputs": []
    },
    {
      "cell_type": "markdown",
      "source": [
        "above true means i have a desire to go and false means i dont want to go\n",
        "\n",
        "          now i will be creating truth statements now p∧r"
      ],
      "metadata": {
        "id": "rmg860YOkVXF"
      }
    },
    {
      "cell_type": "code",
      "source": [
        "FLORIDA and LOUISIANA"
      ],
      "metadata": {
        "colab": {
          "base_uri": "https://localhost:8080/"
        },
        "id": "I4OGdrzdkfSF",
        "outputId": "76d8a07c-35de-4bda-b1e1-2cbe4ee0109e"
      },
      "execution_count": 4,
      "outputs": [
        {
          "output_type": "execute_result",
          "data": {
            "text/plain": [
              "True"
            ]
          },
          "metadata": {},
          "execution_count": 4
        }
      ]
    },
    {
      "cell_type": "markdown",
      "source": [
        "NOW, \n",
        "\n",
        "\n",
        "   r ∨ ￢q"
      ],
      "metadata": {
        "id": "q0g3cIKRmOAQ"
      }
    },
    {
      "cell_type": "code",
      "source": [
        "LOUISIANA or not(KENTUCKY)"
      ],
      "metadata": {
        "colab": {
          "base_uri": "https://localhost:8080/"
        },
        "id": "BAv-2AsMnCO1",
        "outputId": "e3b73ab9-3d49-4929-b7fa-7be6e3eba6ea"
      },
      "execution_count": 5,
      "outputs": [
        {
          "output_type": "execute_result",
          "data": {
            "text/plain": [
              "True"
            ]
          },
          "metadata": {},
          "execution_count": 5
        }
      ]
    },
    {
      "cell_type": "markdown",
      "source": [
        "r -> p"
      ],
      "metadata": {
        "id": "LQyOx1t4nbSC"
      }
    },
    {
      "cell_type": "code",
      "source": [
        "not(LOUISIANA) or FLORIDA"
      ],
      "metadata": {
        "colab": {
          "base_uri": "https://localhost:8080/"
        },
        "id": "i_72Ywr4oRx9",
        "outputId": "7ec21270-88b3-40c0-cd78-b89047245030"
      },
      "execution_count": 6,
      "outputs": [
        {
          "output_type": "execute_result",
          "data": {
            "text/plain": [
              "True"
            ]
          },
          "metadata": {},
          "execution_count": 6
        }
      ]
    },
    {
      "cell_type": "markdown",
      "source": [
        "I WILL MAKE TRUTH TABLE NOW"
      ],
      "metadata": {
        "id": "TdOT9Uiuooa9"
      }
    },
    {
      "cell_type": "code",
      "source": [
        "!pip install truth-table-generator\n",
        "import ttg"
      ],
      "metadata": {
        "colab": {
          "base_uri": "https://localhost:8080/"
        },
        "id": "JYmiHSsgotFl",
        "outputId": "6b965430-41b9-4c0f-8792-f2a87ad27e3e"
      },
      "execution_count": 7,
      "outputs": [
        {
          "output_type": "stream",
          "name": "stdout",
          "text": [
            "Collecting truth-table-generator\n",
            "  Downloading truth_table_generator-1.1.2.tar.gz (14 kB)\n",
            "Requirement already satisfied: numpy in /usr/local/lib/python3.7/dist-packages (from truth-table-generator) (1.21.5)\n",
            "Requirement already satisfied: pandas in /usr/local/lib/python3.7/dist-packages (from truth-table-generator) (1.3.5)\n",
            "Collecting PTable\n",
            "  Downloading PTable-0.9.2.tar.gz (31 kB)\n",
            "Requirement already satisfied: pyparsing in /usr/local/lib/python3.7/dist-packages (from truth-table-generator) (3.0.7)\n",
            "Requirement already satisfied: tabulate in /usr/local/lib/python3.7/dist-packages (from truth-table-generator) (0.8.9)\n",
            "Requirement already satisfied: jinja2 in /usr/local/lib/python3.7/dist-packages (from truth-table-generator) (2.11.3)\n",
            "Requirement already satisfied: MarkupSafe>=0.23 in /usr/local/lib/python3.7/dist-packages (from jinja2->truth-table-generator) (2.0.1)\n",
            "Requirement already satisfied: pytz>=2017.3 in /usr/local/lib/python3.7/dist-packages (from pandas->truth-table-generator) (2018.9)\n",
            "Requirement already satisfied: python-dateutil>=2.7.3 in /usr/local/lib/python3.7/dist-packages (from pandas->truth-table-generator) (2.8.2)\n",
            "Requirement already satisfied: six>=1.5 in /usr/local/lib/python3.7/dist-packages (from python-dateutil>=2.7.3->pandas->truth-table-generator) (1.15.0)\n",
            "Building wheels for collected packages: truth-table-generator, PTable\n",
            "  Building wheel for truth-table-generator (setup.py) ... \u001b[?25l\u001b[?25hdone\n",
            "  Created wheel for truth-table-generator: filename=truth_table_generator-1.1.2-py3-none-any.whl size=13960 sha256=d69ed40bdfb6bd69d1d7f3b4e8174a1a0d41edf43a4605d108b9c013f2f8c7b2\n",
            "  Stored in directory: /root/.cache/pip/wheels/9a/55/b5/77f5756832494eafda92c7a94c1365ac31088a18a3a97dd480\n",
            "  Building wheel for PTable (setup.py) ... \u001b[?25l\u001b[?25hdone\n",
            "  Created wheel for PTable: filename=PTable-0.9.2-py3-none-any.whl size=22925 sha256=9e18a8c3b2d8668781e71da081a162a52d710177a614bd56be5abe8973213104\n",
            "  Stored in directory: /root/.cache/pip/wheels/33/df/2f/674985b3f8a2de3f96357d1eadef5110f74fa91b3785e52a54\n",
            "Successfully built truth-table-generator PTable\n",
            "Installing collected packages: PTable, truth-table-generator\n",
            "Successfully installed PTable-0.9.2 truth-table-generator-1.1.2\n"
          ]
        }
      ]
    },
    {
      "cell_type": "markdown",
      "source": [
        "HERE IS THE TABLE"
      ],
      "metadata": {
        "id": "wq4qR-yWo5s0"
      }
    },
    {
      "cell_type": "code",
      "source": [
        "table = ttg.Truths(['p', 'q', 'r'], ['p xor q', '~(p xor q)', 'q or r', '(~(p xor q)) => (q or r)'], ints = False)\n",
        "table.as_pandas().style.set_properties(**{'text-align': 'left'}).hide_index()"
      ],
      "metadata": {
        "colab": {
          "base_uri": "https://localhost:8080/",
          "height": 300
        },
        "id": "1SWkHz5So8Rn",
        "outputId": "06a744dc-d17e-4215-f2fa-738db37b16e6"
      },
      "execution_count": 8,
      "outputs": [
        {
          "output_type": "execute_result",
          "data": {
            "text/html": [
              "<style type=\"text/css\">\n",
              "#T_8ec69_row0_col0, #T_8ec69_row0_col1, #T_8ec69_row0_col2, #T_8ec69_row0_col3, #T_8ec69_row0_col4, #T_8ec69_row0_col5, #T_8ec69_row0_col6, #T_8ec69_row1_col0, #T_8ec69_row1_col1, #T_8ec69_row1_col2, #T_8ec69_row1_col3, #T_8ec69_row1_col4, #T_8ec69_row1_col5, #T_8ec69_row1_col6, #T_8ec69_row2_col0, #T_8ec69_row2_col1, #T_8ec69_row2_col2, #T_8ec69_row2_col3, #T_8ec69_row2_col4, #T_8ec69_row2_col5, #T_8ec69_row2_col6, #T_8ec69_row3_col0, #T_8ec69_row3_col1, #T_8ec69_row3_col2, #T_8ec69_row3_col3, #T_8ec69_row3_col4, #T_8ec69_row3_col5, #T_8ec69_row3_col6, #T_8ec69_row4_col0, #T_8ec69_row4_col1, #T_8ec69_row4_col2, #T_8ec69_row4_col3, #T_8ec69_row4_col4, #T_8ec69_row4_col5, #T_8ec69_row4_col6, #T_8ec69_row5_col0, #T_8ec69_row5_col1, #T_8ec69_row5_col2, #T_8ec69_row5_col3, #T_8ec69_row5_col4, #T_8ec69_row5_col5, #T_8ec69_row5_col6, #T_8ec69_row6_col0, #T_8ec69_row6_col1, #T_8ec69_row6_col2, #T_8ec69_row6_col3, #T_8ec69_row6_col4, #T_8ec69_row6_col5, #T_8ec69_row6_col6, #T_8ec69_row7_col0, #T_8ec69_row7_col1, #T_8ec69_row7_col2, #T_8ec69_row7_col3, #T_8ec69_row7_col4, #T_8ec69_row7_col5, #T_8ec69_row7_col6 {\n",
              "  text-align: left;\n",
              "}\n",
              "</style>\n",
              "<table id=\"T_8ec69_\" class=\"dataframe\">\n",
              "  <thead>\n",
              "    <tr>\n",
              "      <th class=\"col_heading level0 col0\" >p</th>\n",
              "      <th class=\"col_heading level0 col1\" >q</th>\n",
              "      <th class=\"col_heading level0 col2\" >r</th>\n",
              "      <th class=\"col_heading level0 col3\" >p xor q</th>\n",
              "      <th class=\"col_heading level0 col4\" >~(p xor q)</th>\n",
              "      <th class=\"col_heading level0 col5\" >q or r</th>\n",
              "      <th class=\"col_heading level0 col6\" >(~(p xor q)) => (q or r)</th>\n",
              "    </tr>\n",
              "  </thead>\n",
              "  <tbody>\n",
              "    <tr>\n",
              "      <td id=\"T_8ec69_row0_col0\" class=\"data row0 col0\" >True</td>\n",
              "      <td id=\"T_8ec69_row0_col1\" class=\"data row0 col1\" >True</td>\n",
              "      <td id=\"T_8ec69_row0_col2\" class=\"data row0 col2\" >True</td>\n",
              "      <td id=\"T_8ec69_row0_col3\" class=\"data row0 col3\" >False</td>\n",
              "      <td id=\"T_8ec69_row0_col4\" class=\"data row0 col4\" >True</td>\n",
              "      <td id=\"T_8ec69_row0_col5\" class=\"data row0 col5\" >True</td>\n",
              "      <td id=\"T_8ec69_row0_col6\" class=\"data row0 col6\" >True</td>\n",
              "    </tr>\n",
              "    <tr>\n",
              "      <td id=\"T_8ec69_row1_col0\" class=\"data row1 col0\" >True</td>\n",
              "      <td id=\"T_8ec69_row1_col1\" class=\"data row1 col1\" >True</td>\n",
              "      <td id=\"T_8ec69_row1_col2\" class=\"data row1 col2\" >False</td>\n",
              "      <td id=\"T_8ec69_row1_col3\" class=\"data row1 col3\" >False</td>\n",
              "      <td id=\"T_8ec69_row1_col4\" class=\"data row1 col4\" >True</td>\n",
              "      <td id=\"T_8ec69_row1_col5\" class=\"data row1 col5\" >True</td>\n",
              "      <td id=\"T_8ec69_row1_col6\" class=\"data row1 col6\" >True</td>\n",
              "    </tr>\n",
              "    <tr>\n",
              "      <td id=\"T_8ec69_row2_col0\" class=\"data row2 col0\" >True</td>\n",
              "      <td id=\"T_8ec69_row2_col1\" class=\"data row2 col1\" >False</td>\n",
              "      <td id=\"T_8ec69_row2_col2\" class=\"data row2 col2\" >True</td>\n",
              "      <td id=\"T_8ec69_row2_col3\" class=\"data row2 col3\" >True</td>\n",
              "      <td id=\"T_8ec69_row2_col4\" class=\"data row2 col4\" >False</td>\n",
              "      <td id=\"T_8ec69_row2_col5\" class=\"data row2 col5\" >True</td>\n",
              "      <td id=\"T_8ec69_row2_col6\" class=\"data row2 col6\" >True</td>\n",
              "    </tr>\n",
              "    <tr>\n",
              "      <td id=\"T_8ec69_row3_col0\" class=\"data row3 col0\" >True</td>\n",
              "      <td id=\"T_8ec69_row3_col1\" class=\"data row3 col1\" >False</td>\n",
              "      <td id=\"T_8ec69_row3_col2\" class=\"data row3 col2\" >False</td>\n",
              "      <td id=\"T_8ec69_row3_col3\" class=\"data row3 col3\" >True</td>\n",
              "      <td id=\"T_8ec69_row3_col4\" class=\"data row3 col4\" >False</td>\n",
              "      <td id=\"T_8ec69_row3_col5\" class=\"data row3 col5\" >False</td>\n",
              "      <td id=\"T_8ec69_row3_col6\" class=\"data row3 col6\" >True</td>\n",
              "    </tr>\n",
              "    <tr>\n",
              "      <td id=\"T_8ec69_row4_col0\" class=\"data row4 col0\" >False</td>\n",
              "      <td id=\"T_8ec69_row4_col1\" class=\"data row4 col1\" >True</td>\n",
              "      <td id=\"T_8ec69_row4_col2\" class=\"data row4 col2\" >True</td>\n",
              "      <td id=\"T_8ec69_row4_col3\" class=\"data row4 col3\" >True</td>\n",
              "      <td id=\"T_8ec69_row4_col4\" class=\"data row4 col4\" >False</td>\n",
              "      <td id=\"T_8ec69_row4_col5\" class=\"data row4 col5\" >True</td>\n",
              "      <td id=\"T_8ec69_row4_col6\" class=\"data row4 col6\" >True</td>\n",
              "    </tr>\n",
              "    <tr>\n",
              "      <td id=\"T_8ec69_row5_col0\" class=\"data row5 col0\" >False</td>\n",
              "      <td id=\"T_8ec69_row5_col1\" class=\"data row5 col1\" >True</td>\n",
              "      <td id=\"T_8ec69_row5_col2\" class=\"data row5 col2\" >False</td>\n",
              "      <td id=\"T_8ec69_row5_col3\" class=\"data row5 col3\" >True</td>\n",
              "      <td id=\"T_8ec69_row5_col4\" class=\"data row5 col4\" >False</td>\n",
              "      <td id=\"T_8ec69_row5_col5\" class=\"data row5 col5\" >True</td>\n",
              "      <td id=\"T_8ec69_row5_col6\" class=\"data row5 col6\" >True</td>\n",
              "    </tr>\n",
              "    <tr>\n",
              "      <td id=\"T_8ec69_row6_col0\" class=\"data row6 col0\" >False</td>\n",
              "      <td id=\"T_8ec69_row6_col1\" class=\"data row6 col1\" >False</td>\n",
              "      <td id=\"T_8ec69_row6_col2\" class=\"data row6 col2\" >True</td>\n",
              "      <td id=\"T_8ec69_row6_col3\" class=\"data row6 col3\" >False</td>\n",
              "      <td id=\"T_8ec69_row6_col4\" class=\"data row6 col4\" >True</td>\n",
              "      <td id=\"T_8ec69_row6_col5\" class=\"data row6 col5\" >True</td>\n",
              "      <td id=\"T_8ec69_row6_col6\" class=\"data row6 col6\" >True</td>\n",
              "    </tr>\n",
              "    <tr>\n",
              "      <td id=\"T_8ec69_row7_col0\" class=\"data row7 col0\" >False</td>\n",
              "      <td id=\"T_8ec69_row7_col1\" class=\"data row7 col1\" >False</td>\n",
              "      <td id=\"T_8ec69_row7_col2\" class=\"data row7 col2\" >False</td>\n",
              "      <td id=\"T_8ec69_row7_col3\" class=\"data row7 col3\" >False</td>\n",
              "      <td id=\"T_8ec69_row7_col4\" class=\"data row7 col4\" >True</td>\n",
              "      <td id=\"T_8ec69_row7_col5\" class=\"data row7 col5\" >False</td>\n",
              "      <td id=\"T_8ec69_row7_col6\" class=\"data row7 col6\" >False</td>\n",
              "    </tr>\n",
              "  </tbody>\n",
              "</table>\n"
            ],
            "text/plain": [
              "<pandas.io.formats.style.Styler at 0x7f3ed65ce650>"
            ]
          },
          "metadata": {},
          "execution_count": 8
        }
      ]
    }
  ]
}