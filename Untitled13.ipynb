{
  "nbformat": 4,
  "nbformat_minor": 0,
  "metadata": {
    "colab": {
      "name": "Untitled13.ipynb",
      "provenance": [],
      "authorship_tag": "ABX9TyOPNmd94XNEeV9NQz8Zl2v8",
      "include_colab_link": true
    },
    "kernelspec": {
      "name": "python3",
      "display_name": "Python 3"
    },
    "language_info": {
      "name": "python"
    }
  },
  "cells": [
    {
      "cell_type": "markdown",
      "metadata": {
        "id": "view-in-github",
        "colab_type": "text"
      },
      "source": [
        "<a href=\"https://colab.research.google.com/github/bjkc/new-discrete/blob/main/Untitled13.ipynb\" target=\"_parent\"><img src=\"https://colab.research.google.com/assets/colab-badge.svg\" alt=\"Open In Colab\"/></a>"
      ]
    },
    {
      "cell_type": "markdown",
      "source": [
        "#project 4 Discrete math\n",
        "Bijay raj kc\n",
        "\n",
        "\n",
        "In this project also i am using the playing cards for the counting and determining the 10 sequences, in playing cards there are four kind of symbol that is diamond, heart,spades and club so there will be four possibilities if i draw it ten times\n",
        "  \n",
        "                      4*4*4......*4=4^10\n",
        "\n",
        "                      here are my possible card"
      ],
      "metadata": {
        "id": "LmExHiVgOfCE"
      }
    },
    {
      "cell_type": "code",
      "source": [
        "possibleCard = ['diamonds','spades','heart','clubs']"
      ],
      "metadata": {
        "id": "EhkBh9O_VMqr"
      },
      "execution_count": null,
      "outputs": []
    },
    {
      "cell_type": "code",
      "source": [
        "4**10"
      ],
      "metadata": {
        "colab": {
          "base_uri": "https://localhost:8080/"
        },
        "id": "CLKsUTDtQriA",
        "outputId": "a498b3c9-9149-41b6-92d5-3ea579af2f02"
      },
      "execution_count": null,
      "outputs": [
        {
          "output_type": "execute_result",
          "data": {
            "text/plain": [
              "1048576"
            ]
          },
          "metadata": {},
          "execution_count": 8
        }
      ]
    },
    {
      "cell_type": "markdown",
      "source": [
        "We will have 10 spaces now to fill the 4 categories we will repeat and use pigeanhole principle and suppose n as a number of space and m as a categories\n",
        "\n",
        "            (n+m-1)!/n!(m-1)1"
      ],
      "metadata": {
        "id": "9gfw3buVQ0p0"
      }
    },
    {
      "cell_type": "code",
      "source": [
        "import math\n",
        "\n",
        "math.factorial(13)/(math.factorial(10)*math.factorial(3))"
      ],
      "metadata": {
        "colab": {
          "base_uri": "https://localhost:8080/"
        },
        "id": "McEoVT1WRvyo",
        "outputId": "427af58d-d5eb-4eb4-f373-cc72d675ff23"
      },
      "execution_count": null,
      "outputs": [
        {
          "output_type": "execute_result",
          "data": {
            "text/plain": [
              "286.0"
            ]
          },
          "metadata": {},
          "execution_count": 9
        }
      ]
    },
    {
      "cell_type": "markdown",
      "source": [
        "Here if the order matters i will use 4!\n",
        "and if it doesn't we will use ,\n",
        "                             nCm=4!/0!4!"
      ],
      "metadata": {
        "id": "0Js7PaLpTZ44"
      }
    },
    {
      "cell_type": "code",
      "source": [
        "math.factorial(4)"
      ],
      "metadata": {
        "colab": {
          "base_uri": "https://localhost:8080/"
        },
        "id": "wD6ukbRtUVI2",
        "outputId": "16741dc0-b0a0-44ed-8b73-3e83183b1b87"
      },
      "execution_count": null,
      "outputs": [
        {
          "output_type": "execute_result",
          "data": {
            "text/plain": [
              "24"
            ]
          },
          "metadata": {},
          "execution_count": 10
        }
      ]
    },
    {
      "cell_type": "code",
      "source": [
        "from itertools import permutations\n",
        "print(list(permutations(possibleCard,4)))"
      ],
      "metadata": {
        "colab": {
          "base_uri": "https://localhost:8080/"
        },
        "id": "fYtafK8aUvO3",
        "outputId": "453f6e6c-a4a6-4840-829f-f64886261547"
      },
      "execution_count": null,
      "outputs": [
        {
          "output_type": "stream",
          "name": "stdout",
          "text": [
            "[('diamonds', 'spades', 'heart', 'clubs'), ('diamonds', 'spades', 'clubs', 'heart'), ('diamonds', 'heart', 'spades', 'clubs'), ('diamonds', 'heart', 'clubs', 'spades'), ('diamonds', 'clubs', 'spades', 'heart'), ('diamonds', 'clubs', 'heart', 'spades'), ('spades', 'diamonds', 'heart', 'clubs'), ('spades', 'diamonds', 'clubs', 'heart'), ('spades', 'heart', 'diamonds', 'clubs'), ('spades', 'heart', 'clubs', 'diamonds'), ('spades', 'clubs', 'diamonds', 'heart'), ('spades', 'clubs', 'heart', 'diamonds'), ('heart', 'diamonds', 'spades', 'clubs'), ('heart', 'diamonds', 'clubs', 'spades'), ('heart', 'spades', 'diamonds', 'clubs'), ('heart', 'spades', 'clubs', 'diamonds'), ('heart', 'clubs', 'diamonds', 'spades'), ('heart', 'clubs', 'spades', 'diamonds'), ('clubs', 'diamonds', 'spades', 'heart'), ('clubs', 'diamonds', 'heart', 'spades'), ('clubs', 'spades', 'diamonds', 'heart'), ('clubs', 'spades', 'heart', 'diamonds'), ('clubs', 'heart', 'diamonds', 'spades'), ('clubs', 'heart', 'spades', 'diamonds')]\n"
          ]
        }
      ]
    },
    {
      "cell_type": "markdown",
      "source": [
        "So as i have 24 possible outcome and also looks good for all the possible outcomes."
      ],
      "metadata": {
        "id": "rSe1dZyXV1t6"
      }
    },
    {
      "cell_type": "code",
      "source": [
        "math.factorial(4)/(math.factorial(0)*math.factorial(4))"
      ],
      "metadata": {
        "colab": {
          "base_uri": "https://localhost:8080/"
        },
        "id": "XQodUhruWVTa",
        "outputId": "ea15759a-6bd9-4a16-9a45-0bd364e6d162"
      },
      "execution_count": null,
      "outputs": [
        {
          "output_type": "execute_result",
          "data": {
            "text/plain": [
              "1.0"
            ]
          },
          "metadata": {},
          "execution_count": 12
        }
      ]
    },
    {
      "cell_type": "markdown",
      "source": [
        "Here there is only 1 possible outcome lets see the single possible outcome then"
      ],
      "metadata": {
        "id": "ZLjtCDtsWeUa"
      }
    },
    {
      "cell_type": "code",
      "source": [
        "from itertools import combinations\n",
        "print(list(combinations(possibleCard,4)))"
      ],
      "metadata": {
        "colab": {
          "base_uri": "https://localhost:8080/"
        },
        "id": "2uFD8sM6WrV2",
        "outputId": "df0e6064-5a6a-421a-d757-9f34d7c26e27"
      },
      "execution_count": null,
      "outputs": [
        {
          "output_type": "stream",
          "name": "stdout",
          "text": [
            "[('diamonds', 'spades', 'heart', 'clubs')]\n"
          ]
        }
      ]
    },
    {
      "cell_type": "markdown",
      "source": [
        "i will be able to find 5th term of polynomial\n",
        "                               \n",
        "\n",
        "                            (x-3)^9\n",
        "                                  \n",
        "                                  Tr+1=nCr(x)^(n-r)y^r\n",
        "                                  t4+1=9C4x^5(-3)^4"
      ],
      "metadata": {
        "id": "2IdIyDm7W21N"
      }
    },
    {
      "cell_type": "code",
      "source": [
        "(math.factorial(9)/(math.factorial(5)*math.factorial(4)))*((-3)**4)"
      ],
      "metadata": {
        "colab": {
          "base_uri": "https://localhost:8080/"
        },
        "id": "fz0g5toeYPwg",
        "outputId": "a78e568e-1ad2-4060-af67-1edd314b64a7"
      },
      "execution_count": null,
      "outputs": [
        {
          "output_type": "execute_result",
          "data": {
            "text/plain": [
              "10206.0"
            ]
          },
          "metadata": {},
          "execution_count": 14
        }
      ]
    },
    {
      "cell_type": "markdown",
      "source": [
        "From the above result the fifth term will be 10206x^5"
      ],
      "metadata": {
        "id": "1Rpf2ZQEYYGV"
      }
    }
  ]
}